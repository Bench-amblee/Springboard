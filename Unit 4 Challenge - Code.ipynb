{
 "cells": [
  {
   "cell_type": "code",
   "execution_count": 3,
   "metadata": {
    "colab": {},
    "colab_type": "code",
    "id": "7Bt_Q_oPJpgn"
   },
   "outputs": [
    {
     "data": {
      "text/plain": [
       "[Text(0, 0, 'Hackney'),\n",
       " Text(0, 0, 'Waltham Forest'),\n",
       " Text(0, 0, 'Southwark'),\n",
       " Text(0, 0, 'Lewisham'),\n",
       " Text(0, 0, 'Westminster'),\n",
       " Text(0, 0, 'Newham'),\n",
       " Text(0, 0, 'City of London'),\n",
       " Text(0, 0, 'Haringey'),\n",
       " Text(0, 0, 'Kensington & Chelsea'),\n",
       " Text(0, 0, 'Lambeth')]"
      ]
     },
     "execution_count": 3,
     "metadata": {},
     "output_type": "execute_result"
    },
    {
     "data": {
      "image/png": "[encoded data removed]",
      "text/plain": [
       "<Figure size 432x288 with 1 Axes>"
      ]
     },
     "metadata": {
      "needs_background": "light"
     },
     "output_type": "display_data"
    }
   ],
   "source": [
    "\n",
    "import pandas as pd\n",
    "import numpy as np\n",
    "import matplotlib.pyplot as plt\n",
    "\n",
    "url_LondonHousePrices = \"https://data.london.gov.uk/download/uk-house-price-index/70ac0766-8902-4eb5-aab5-01951aaed773/UK%20House%20price%20index.xls\"\n",
    "\n",
    "# The dataset we're interested in contains the Average prices of the houses, and is actually on a particular sheet of the Excel file.   \n",
    "properties = pd.read_excel(url_LondonHousePrices, sheet_name='Average price', index_col= None)\n",
    "\n",
    "#transpose properties dataframe\n",
    "properties_T = properties.transpose()\n",
    "properties_T = properties_T.reset_index()\n",
    "properties_T.columns = properties_T.iloc[0]\n",
    "properties_T = properties_T.drop(0)\n",
    "\n",
    "#rename dataframe columns \n",
    "properties_T.rename(columns={'Unnamed: 0':'London_Boroughs'}, inplace=True)\n",
    "properties_T = properties_T.rename(columns={np.nan: 'ID'})\n",
    "properties_T.columns = properties_T.columns.fillna('ID')\n",
    "\n",
    "#condense property dataframe \n",
    "properties_cond = pd.melt(properties_T, id_vars= ['London_Boroughs', 'ID'])\n",
    "properties_cond = properties_cond.rename(columns={0: 'Date','value': 'Average Price'})\n",
    "\n",
    "#check dtypes then convert average price column to float64\n",
    "properties_cond['Average Price'] = pd.to_numeric(properties_cond['Average Price'])\n",
    "\n",
    "#properties_cond.count() the count of London Boroughs does not match the count of ID or Average Price\n",
    "properties_cond['London_Boroughs'].unique()\n",
    "# Clean up the values in London Boroughs\n",
    "properties_clean = properties_cond.dropna()\n",
    "#identify non boroughs\n",
    "Invalid = ['Inner London', 'Outer London', \n",
    "            'NORTH EAST', 'NORTH WEST', 'YORKS & THE HUMBER', \n",
    "            'EAST MIDLANDS', 'WEST MIDLANDS',\n",
    "            'EAST OF ENGLAND', 'LONDON', 'SOUTH EAST', \n",
    "            'SOUTH WEST', 'England']\n",
    "properties_clean = properties_clean[~properties_clean.London_Boroughs.isin(Invalid)]\n",
    "\n",
    "#groupby year\n",
    "properties_clean['Year'] = properties_clean['Date'].apply(lambda t: t.year)\n",
    "df = properties_clean.groupby(by=['London_Boroughs', 'Year']).mean()\n",
    "df = df.reset_index()\n",
    "\n",
    "#price ratio calculator\n",
    "\n",
    "def price_ratio(d):\n",
    "    y1998 = float(d['Average Price'][d['Year']==1998])\n",
    "    y2018 = float(d['Average Price'][d['Year']==2018])\n",
    "    ratio = [y2018/y1998]\n",
    "    return ratio\n",
    "ratio_list = {}\n",
    "for i in df['London_Boroughs'].unique():\n",
    "    borough = df[df['London_Boroughs'] == i]\n",
    "    ratio_list[i] = price_ratio(borough)\n",
    "#convert to dataframe\n",
    "ratio_df = pd.DataFrame(ratio_list)\n",
    "ratio_dfT = ratio_df.T\n",
    "ratio_dfT = ratio_dfT.reset_index()\n",
    "ratio_dfT.rename(columns={'index':'Borough', 0:'2018_1998_Ratio'}, inplace=True)\n",
    "#sort to determine highest ratios\n",
    "top10 = ratio_dfT.sort_values(by='2018_1998_Ratio',ascending=False).head(10)\n",
    "# print(top10) reveals that Hackney and Walthan Forest have the greatest price increases\n",
    "graph = top10[['Borough','2018_1998_Ratio']].plot(kind='bar')\n",
    "graph.set_xticklabels(top10.Borough)\n"
   ]
  }
 ],
 "metadata": {
  "colab": {
   "collapsed_sections": [],
   "name": "Springboard Data Science Career Track Unit 4 Challenge - Tier 3 Complete .ipynb",
   "provenance": []
  },
  "kernelspec": {
   "display_name": "Python 3",
   "language": "python",
   "name": "python3"
  },
  "language_info": {
   "codemirror_mode": {
    "name": "ipython",
    "version": 3
   },
   "file_extension": ".py",
   "mimetype": "text/x-python",
   "name": "python",
   "nbconvert_exporter": "python",
   "pygments_lexer": "ipython3",
   "version": "3.7.6"
  }
 },
 "nbformat": 4,
 "nbformat_minor": 1
}
